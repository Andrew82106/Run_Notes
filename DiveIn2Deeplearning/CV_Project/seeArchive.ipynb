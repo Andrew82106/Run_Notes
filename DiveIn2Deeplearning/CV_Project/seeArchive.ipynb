{
 "cells": [
  {
   "cell_type": "code",
   "execution_count": 7,
   "id": "initial_id",
   "metadata": {
    "collapsed": true,
    "ExecuteTime": {
     "end_time": "2024-02-20T02:27:36.493191Z",
     "start_time": "2024-02-20T02:27:36.483538Z"
    }
   },
   "outputs": [
    {
     "data": {
      "text/plain": "['Training', 'Validation']"
     },
     "execution_count": 7,
     "metadata": {},
     "output_type": "execute_result"
    }
   ],
   "source": [
    "import os\n",
    "os.listdir(\"./archive\")"
   ]
  },
  {
   "cell_type": "code",
   "execution_count": 8,
   "outputs": [
    {
     "data": {
      "text/plain": "(23766, 23243)"
     },
     "execution_count": 8,
     "metadata": {},
     "output_type": "execute_result"
    }
   ],
   "source": [
    "len(os.listdir(\"./archive/Training/male\")), len(os.listdir(\"./archive/Training/female\"))"
   ],
   "metadata": {
    "collapsed": false,
    "ExecuteTime": {
     "end_time": "2024-02-20T02:27:36.536501Z",
     "start_time": "2024-02-20T02:27:36.492363Z"
    }
   },
   "id": "1e5d0ee841068c97"
  },
  {
   "cell_type": "code",
   "execution_count": 9,
   "outputs": [
    {
     "data": {
      "text/plain": "(5808, 5841)"
     },
     "execution_count": 9,
     "metadata": {},
     "output_type": "execute_result"
    }
   ],
   "source": [
    "len(os.listdir(\"./archive/Validation/male\")), len(os.listdir(\"./archive/Validation/female\"))"
   ],
   "metadata": {
    "collapsed": false,
    "ExecuteTime": {
     "end_time": "2024-02-20T02:27:36.545853Z",
     "start_time": "2024-02-20T02:27:36.532870Z"
    }
   },
   "id": "cdbc5206c1cc8bab"
  },
  {
   "cell_type": "code",
   "execution_count": 10,
   "outputs": [],
   "source": [
    "import torch.nn as nn\n",
    "import torch"
   ],
   "metadata": {
    "collapsed": false,
    "ExecuteTime": {
     "end_time": "2024-02-20T02:27:36.549383Z",
     "start_time": "2024-02-20T02:27:36.544994Z"
    }
   },
   "id": "7857e0eecbb10352"
  },
  {
   "cell_type": "code",
   "execution_count": 18,
   "outputs": [
    {
     "data": {
      "text/plain": "(tensor([[ 0.7803,  1.2986],\n         [-1.2384, -1.6242],\n         [ 1.9469, -0.5054]], requires_grad=True),\n tensor([1, 1, 0]))"
     },
     "execution_count": 18,
     "metadata": {},
     "output_type": "execute_result"
    }
   ],
   "source": [
    "loss = nn.CrossEntropyLoss()\n",
    "input = torch.randn(3, 2, requires_grad=True)\n",
    "target = torch.empty(3, dtype=torch.long).random_(2)\n",
    "input, target"
   ],
   "metadata": {
    "collapsed": false,
    "ExecuteTime": {
     "end_time": "2024-02-20T02:29:29.239425Z",
     "start_time": "2024-02-20T02:29:29.230867Z"
    }
   },
   "id": "484eaddf6b76fb85"
  },
  {
   "cell_type": "code",
   "execution_count": 19,
   "outputs": [
    {
     "data": {
      "text/plain": "tensor(0.4848, grad_fn=<NllLossBackward0>)"
     },
     "execution_count": 19,
     "metadata": {},
     "output_type": "execute_result"
    }
   ],
   "source": [
    "loss(input, target)"
   ],
   "metadata": {
    "collapsed": false,
    "ExecuteTime": {
     "end_time": "2024-02-20T02:29:29.709709Z",
     "start_time": "2024-02-20T02:29:29.703696Z"
    }
   },
   "id": "1e3d1197ddf1cf14"
  },
  {
   "cell_type": "markdown",
   "source": [
    "(tensor([[-0.3466,  0.0829],\n",
    "         [ 0.6925,  1.5139],\n",
    "         [ 0.2762, -0.5167]], requires_grad=True),\n",
    " tensor([1, 0, 0]))\n",
    "tensor(0.6868, grad_fn=<NllLossBackward0>)\n",
    "\n",
    "(tensor([[-0.2174,  1.5132],\n",
    "         [ 0.0669, -0.0062],\n",
    "         [-1.2145, -0.7034]], requires_grad=True),\n",
    " tensor([0, 1, 1]))\n",
    " tensor(1.0313, grad_fn=<NllLossBackward0>)\n",
    " \n",
    "(tensor([[ 0.7803,  1.2986],\n",
    "         [-1.2384, -1.6242],\n",
    "         [ 1.9469, -0.5054]], requires_grad=True),\n",
    " tensor([1, 1, 0]))\n",
    " tensor(0.4848, grad_fn=<NllLossBackward0>)"
   ],
   "metadata": {
    "collapsed": false
   },
   "id": "300ffd583bb7e045"
  },
  {
   "cell_type": "code",
   "execution_count": null,
   "outputs": [],
   "source": [],
   "metadata": {
    "collapsed": false
   },
   "id": "f3c3aad6c285f7a7"
  }
 ],
 "metadata": {
  "kernelspec": {
   "display_name": "Python 3",
   "language": "python",
   "name": "python3"
  },
  "language_info": {
   "codemirror_mode": {
    "name": "ipython",
    "version": 2
   },
   "file_extension": ".py",
   "mimetype": "text/x-python",
   "name": "python",
   "nbconvert_exporter": "python",
   "pygments_lexer": "ipython2",
   "version": "2.7.6"
  }
 },
 "nbformat": 4,
 "nbformat_minor": 5
}
